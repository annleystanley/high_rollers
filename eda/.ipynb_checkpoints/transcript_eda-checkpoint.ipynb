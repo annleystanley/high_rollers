{
 "cells": [
  {
   "cell_type": "markdown",
   "id": "8c3f014b",
   "metadata": {},
   "source": [
    "# Transcript EDA\n",
    "- base cleaning on the transcripts has been done\n",
    "- next steps are to see what other cleaning needs to be done, and explore what we have"
   ]
  },
  {
   "cell_type": "code",
   "execution_count": 3,
   "id": "5a301ace",
   "metadata": {},
   "outputs": [],
   "source": [
    "# Importing modules\n",
    "import pandas as pd\n",
    "import numpy as np"
   ]
  },
  {
   "cell_type": "code",
   "execution_count": 64,
   "id": "8f31a0ff",
   "metadata": {},
   "outputs": [],
   "source": [
    "acoc_df = pd.read_csv('../transcripts/csv/acoc_df.csv')\n",
    "aso_df = pd.read_csv('../transcripts/aso_df.csv')\n",
    "fhfy_df = pd.read_csv('../transcripts/fhfy_df.csv')\n",
    "fhsy_df = pd.read_csv('../transcripts/fhsy_df.csv')\n",
    "tuc_df = pd.read_csv('../transcripts/tuc_df.csv')\n",
    "tuc2_df = pd.read_csv('../transcripts/tuc2_df.csv')"
   ]
  },
  {
   "cell_type": "code",
   "execution_count": 65,
   "id": "db0205dd",
   "metadata": {},
   "outputs": [],
   "source": [
    "# renaming columns\n",
    "acoc_df.rename(columns={'0':'Line'}, inplace=True)\n",
    "aso_df.rename(columns={'0':'Line'}, inplace=True)\n",
    "fhfy_df.rename(columns={'0':'Line'}, inplace=True)\n",
    "fhsy_df.rename(columns={'0':'Line'}, inplace=True)\n",
    "tuc_df.rename(columns={'0':'Line'}, inplace=True)\n",
    "tuc2_df.rename(columns={'0':'Line'}, inplace=True)"
   ]
  },
  {
   "cell_type": "code",
   "execution_count": 34,
   "id": "4f25f810",
   "metadata": {},
   "outputs": [],
   "source": [
    "# starting with acoc"
   ]
  },
  {
   "cell_type": "code",
   "execution_count": 66,
   "id": "3dec5fdd",
   "metadata": {},
   "outputs": [],
   "source": [
    "# splitting columns into player & line\n",
    "acoc_df_split = acoc_df['Line'].str.split(':', n=1, expand=True)"
   ]
  },
  {
   "cell_type": "code",
   "execution_count": 68,
   "id": "1b1eccc1",
   "metadata": {},
   "outputs": [],
   "source": [
    "# dropping nans\n",
    "acoc_df_split.dropna(inplace=True)"
   ]
  },
  {
   "cell_type": "code",
   "execution_count": 79,
   "id": "c098be62",
   "metadata": {},
   "outputs": [],
   "source": [
    "# renaming columns\n",
    "acoc_df_split.rename(columns={0:'Player',1:'Line'}, inplace=True)"
   ]
  },
  {
   "cell_type": "code",
   "execution_count": 89,
   "id": "e458f024",
   "metadata": {},
   "outputs": [],
   "source": [
    "# looking only for natural 20s\n",
    "acoc_20s = acoc_df_split.loc[acoc_df_split['Line'].str.contains('nat 20|natural 20', na=False, case=False)]"
   ]
  },
  {
   "cell_type": "code",
   "execution_count": 103,
   "id": "4e65f39f",
   "metadata": {},
   "outputs": [],
   "source": [
    "# removing instances of Brennan (DM) or cocked rolls\n",
    "acoc_20s = acoc_20s[acoc_20s['Player'].str.contains('Brennan')==False]\n",
    "acoc_20s = acoc_20s[acoc_20s['Line'].str.contains('cocked|Cocked')==False]"
   ]
  },
  {
   "cell_type": "code",
   "execution_count": 109,
   "id": "df13e64d",
   "metadata": {},
   "outputs": [],
   "source": [
    "# resseting index\n",
    "acoc_20s.reset_index(drop=True, inplace=True)"
   ]
  },
  {
   "cell_type": "code",
   "execution_count": 111,
   "id": "3ec4a220",
   "metadata": {
    "scrolled": true
   },
   "outputs": [
    {
     "data": {
      "text/html": [
       "<div>\n",
       "<style scoped>\n",
       "    .dataframe tbody tr th:only-of-type {\n",
       "        vertical-align: middle;\n",
       "    }\n",
       "\n",
       "    .dataframe tbody tr th {\n",
       "        vertical-align: top;\n",
       "    }\n",
       "\n",
       "    .dataframe thead th {\n",
       "        text-align: right;\n",
       "    }\n",
       "</style>\n",
       "<table border=\"1\" class=\"dataframe\">\n",
       "  <thead>\n",
       "    <tr style=\"text-align: right;\">\n",
       "      <th></th>\n",
       "      <th>Player</th>\n",
       "      <th>Line</th>\n",
       "    </tr>\n",
       "  </thead>\n",
       "  <tbody>\n",
       "    <tr>\n",
       "      <th>0</th>\n",
       "      <td>Siobhan</td>\n",
       "      <td>Nat 20.</td>\n",
       "    </tr>\n",
       "    <tr>\n",
       "      <th>1</th>\n",
       "      <td>Murph</td>\n",
       "      <td>Nat 20!</td>\n",
       "    </tr>\n",
       "    <tr>\n",
       "      <th>2</th>\n",
       "      <td>Ally</td>\n",
       "      <td>Nat 20!</td>\n",
       "    </tr>\n",
       "    <tr>\n",
       "      <th>3</th>\n",
       "      <td>Emily</td>\n",
       "      <td>Two nat 20s on the first attack!</td>\n",
       "    </tr>\n",
       "    <tr>\n",
       "      <th>4</th>\n",
       "      <td>Emily</td>\n",
       "      <td>Oh, I've never wanted a nat 20 more!</td>\n",
       "    </tr>\n",
       "  </tbody>\n",
       "</table>\n",
       "</div>"
      ],
      "text/plain": [
       "    Player                                   Line\n",
       "0  Siobhan                                Nat 20.\n",
       "1    Murph                                Nat 20!\n",
       "2     Ally                                Nat 20!\n",
       "3    Emily       Two nat 20s on the first attack!\n",
       "4    Emily   Oh, I've never wanted a nat 20 more!"
      ]
     },
     "execution_count": 111,
     "metadata": {},
     "output_type": "execute_result"
    }
   ],
   "source": [
    "acoc_20s.head()"
   ]
  },
  {
   "cell_type": "markdown",
   "id": "052dc05a",
   "metadata": {},
   "source": [
    "- it looks like some of these lines are about the act of getting nat 20s\n",
    "- not necessarily saying they got them\n",
    "- this may take some manual review"
   ]
  },
  {
   "cell_type": "code",
   "execution_count": 131,
   "id": "898b30dc",
   "metadata": {},
   "outputs": [],
   "source": [
    "# creating a cleaning function for finding nat 20s\n",
    "def find_20s(df):\n",
    "    # splitting columns\n",
    "    df = df['Line'].str.split(':', n=1, expand=True)\n",
    "    # dropping nans\n",
    "    df.dropna(inplace=True)\n",
    "    # renaming columns\n",
    "    df.rename(columns={0:'Player',1:'Line'}, inplace=True)\n",
    "    # looking only for natural 20s\n",
    "    df = df.loc[df['Line'].str.contains('nat 20|natural 20', na=False, case=False)]\n",
    "    # removing instances of Brennan (DM) or cocked rolls\n",
    "    df = df[df['Player'].str.contains('Brennan')==False]\n",
    "    df = df[df['Line'].str.contains('cocked|Cocked')==False]\n",
    "    df.reset_index(drop=True, inplace=True)\n",
    "    return df"
   ]
  },
  {
   "cell_type": "code",
   "execution_count": 126,
   "id": "c84c450a",
   "metadata": {},
   "outputs": [],
   "source": [
    "# testing\n",
    "acoc_testing = acoc_df.copy(deep=True)"
   ]
  },
  {
   "cell_type": "code",
   "execution_count": 127,
   "id": "01d40ebb",
   "metadata": {},
   "outputs": [
    {
     "data": {
      "text/html": [
       "<div>\n",
       "<style scoped>\n",
       "    .dataframe tbody tr th:only-of-type {\n",
       "        vertical-align: middle;\n",
       "    }\n",
       "\n",
       "    .dataframe tbody tr th {\n",
       "        vertical-align: top;\n",
       "    }\n",
       "\n",
       "    .dataframe thead th {\n",
       "        text-align: right;\n",
       "    }\n",
       "</style>\n",
       "<table border=\"1\" class=\"dataframe\">\n",
       "  <thead>\n",
       "    <tr style=\"text-align: right;\">\n",
       "      <th></th>\n",
       "      <th>Line</th>\n",
       "    </tr>\n",
       "  </thead>\n",
       "  <tbody>\n",
       "    <tr>\n",
       "      <th>0</th>\n",
       "      <td>Published using Google Docs</td>\n",
       "    </tr>\n",
       "    <tr>\n",
       "      <th>1</th>\n",
       "      <td>[Learn More](https://support.google.com/docs/a...</td>\n",
       "    </tr>\n",
       "    <tr>\n",
       "      <th>2</th>\n",
       "      <td>Episode 1: There is Strength in Sweetness</td>\n",
       "    </tr>\n",
       "    <tr>\n",
       "      <th>3</th>\n",
       "      <td>Updated automatically every 5 minutes</td>\n",
       "    </tr>\n",
       "    <tr>\n",
       "      <th>4</th>\n",
       "      <td>Dimension 20 Season 5</td>\n",
       "    </tr>\n",
       "  </tbody>\n",
       "</table>\n",
       "</div>"
      ],
      "text/plain": [
       "                                                Line\n",
       "0                        Published using Google Docs\n",
       "1  [Learn More](https://support.google.com/docs/a...\n",
       "2          Episode 1: There is Strength in Sweetness\n",
       "3              Updated automatically every 5 minutes\n",
       "4                              Dimension 20 Season 5"
      ]
     },
     "execution_count": 127,
     "metadata": {},
     "output_type": "execute_result"
    }
   ],
   "source": [
    "acoc_testing.head()"
   ]
  },
  {
   "cell_type": "code",
   "execution_count": 128,
   "id": "2d0aae98",
   "metadata": {},
   "outputs": [],
   "source": [
    "acoc_testing = find_20s(acoc_testing)"
   ]
  },
  {
   "cell_type": "code",
   "execution_count": 130,
   "id": "518cb842",
   "metadata": {},
   "outputs": [
    {
     "data": {
      "text/html": [
       "<div>\n",
       "<style scoped>\n",
       "    .dataframe tbody tr th:only-of-type {\n",
       "        vertical-align: middle;\n",
       "    }\n",
       "\n",
       "    .dataframe tbody tr th {\n",
       "        vertical-align: top;\n",
       "    }\n",
       "\n",
       "    .dataframe thead th {\n",
       "        text-align: right;\n",
       "    }\n",
       "</style>\n",
       "<table border=\"1\" class=\"dataframe\">\n",
       "  <thead>\n",
       "    <tr style=\"text-align: right;\">\n",
       "      <th></th>\n",
       "      <th>Player</th>\n",
       "      <th>Line</th>\n",
       "    </tr>\n",
       "  </thead>\n",
       "  <tbody>\n",
       "    <tr>\n",
       "      <th>0</th>\n",
       "      <td>Siobhan</td>\n",
       "      <td>Nat 20.</td>\n",
       "    </tr>\n",
       "    <tr>\n",
       "      <th>1</th>\n",
       "      <td>Murph</td>\n",
       "      <td>Nat 20!</td>\n",
       "    </tr>\n",
       "    <tr>\n",
       "      <th>2</th>\n",
       "      <td>Ally</td>\n",
       "      <td>Nat 20!</td>\n",
       "    </tr>\n",
       "    <tr>\n",
       "      <th>3</th>\n",
       "      <td>Emily</td>\n",
       "      <td>Two nat 20s on the first attack!</td>\n",
       "    </tr>\n",
       "    <tr>\n",
       "      <th>4</th>\n",
       "      <td>Emily</td>\n",
       "      <td>Oh, I've never wanted a nat 20 more!</td>\n",
       "    </tr>\n",
       "    <tr>\n",
       "      <th>...</th>\n",
       "      <td>...</td>\n",
       "      <td>...</td>\n",
       "    </tr>\n",
       "    <tr>\n",
       "      <th>111</th>\n",
       "      <td>Ally</td>\n",
       "      <td>All right, second attack. Nat 20!</td>\n",
       "    </tr>\n",
       "    <tr>\n",
       "      <th>112</th>\n",
       "      <td>Zac</td>\n",
       "      <td>Nat 20. [putting his hand over his mouth]</td>\n",
       "    </tr>\n",
       "    <tr>\n",
       "      <th>113</th>\n",
       "      <td>Lou</td>\n",
       "      <td>That's a nat 20.</td>\n",
       "    </tr>\n",
       "    <tr>\n",
       "      <th>114</th>\n",
       "      <td>Lou</td>\n",
       "      <td>Also, just a fun fact, for those at home, thi...</td>\n",
       "    </tr>\n",
       "    <tr>\n",
       "      <th>115</th>\n",
       "      <td>Murph</td>\n",
       "      <td>Ooh, baby, nat 20. Dramatic rolls.</td>\n",
       "    </tr>\n",
       "  </tbody>\n",
       "</table>\n",
       "<p>116 rows × 2 columns</p>\n",
       "</div>"
      ],
      "text/plain": [
       "      Player                                               Line\n",
       "0    Siobhan                                            Nat 20.\n",
       "1      Murph                                            Nat 20!\n",
       "2       Ally                                            Nat 20!\n",
       "3      Emily                   Two nat 20s on the first attack!\n",
       "4      Emily               Oh, I've never wanted a nat 20 more!\n",
       "..       ...                                                ...\n",
       "111     Ally                  All right, second attack. Nat 20!\n",
       "112      Zac          Nat 20. [putting his hand over his mouth]\n",
       "113      Lou                                   That's a nat 20.\n",
       "114      Lou   Also, just a fun fact, for those at home, thi...\n",
       "115    Murph                 Ooh, baby, nat 20. Dramatic rolls.\n",
       "\n",
       "[116 rows x 2 columns]"
      ]
     },
     "execution_count": 130,
     "metadata": {},
     "output_type": "execute_result"
    }
   ],
   "source": [
    "acoc_testing"
   ]
  },
  {
   "cell_type": "code",
   "execution_count": null,
   "id": "c7e03a4e",
   "metadata": {},
   "outputs": [],
   "source": [
    "aso_df\n",
    "fhfy_df\n",
    "fhsy_df\n",
    "tuc_df\n",
    "tuc2_df"
   ]
  },
  {
   "cell_type": "code",
   "execution_count": 132,
   "id": "da47c89b",
   "metadata": {},
   "outputs": [],
   "source": [
    "# time to use this function on the other seasons\n",
    "aso_20s = find_20s(aso_df)\n",
    "fhfy_20s = find_20s(fhfy_df)\n",
    "fhsy_20s = find_20s(fhsy_df)\n",
    "tuc_20s = find_20s(tuc_df)\n",
    "tuc2_20s = find_20s(tuc2_df)"
   ]
  },
  {
   "cell_type": "code",
   "execution_count": 135,
   "id": "35eeaa2e",
   "metadata": {},
   "outputs": [],
   "source": [
    "# exporting for manual review\n",
    "acoc_20s.to_csv('eda_csvs/acoc_20s.csv', index=False)\n",
    "aso_20s.to_csv('eda_csvs/aso_20s.csv', index=False)\n",
    "fhfy_20s.to_csv('eda_csvs/fhfy_20s.csv', index=False)\n",
    "fhsy_20s.to_csv('eda_csvs/fhsy_20s.csv', index=False)\n",
    "tuc_20s.to_csv('eda_csvs/tuc_20s.csv', index=False)\n",
    "tuc2_20s.to_csv('eda_csvs/tuc2_20s.csv', index=False)"
   ]
  },
  {
   "cell_type": "code",
   "execution_count": 139,
   "id": "a4763c22",
   "metadata": {},
   "outputs": [],
   "source": [
    "# repeating above for critical failures\n",
    "def find_1s(df):\n",
    "    # splitting columns\n",
    "    df = df['Line'].str.split(':', n=1, expand=True)\n",
    "    # dropping nans\n",
    "    df.dropna(inplace=True)\n",
    "    # renaming columns\n",
    "    df.rename(columns={0:'Player',1:'Line'}, inplace=True)\n",
    "    # looking only for natural 1s\n",
    "    df = df.loc[df['Line'].str.contains('nat 1|natural 1', na=False, case=False)]\n",
    "    # removing instances of Brennan (DM) or cocked rolls\n",
    "    df = df[df['Player'].str.contains('Brennan')==False]\n",
    "    df = df[df['Line'].str.contains('cocked|Cocked')==False]\n",
    "    df.reset_index(drop=True, inplace=True)\n",
    "    return df"
   ]
  },
  {
   "cell_type": "code",
   "execution_count": 142,
   "id": "f0d9ce9e",
   "metadata": {},
   "outputs": [],
   "source": [
    "acoc_1s = find_1s(acoc_df)\n",
    "aso_1s = find_1s(aso_df)\n",
    "fhfy_1s = find_1s(fhfy_df)\n",
    "fhsy_1s = find_1s(fhsy_df)\n",
    "tuc_1s = find_1s(tuc_df)\n",
    "tuc2_1s = find_1s(tuc2_df)"
   ]
  },
  {
   "cell_type": "code",
   "execution_count": null,
   "id": "5228885f",
   "metadata": {},
   "outputs": [],
   "source": [
    "# exporting for manual review\n",
    "acoc_1s.to_csv('eda_csvs/acoc_1s.csv', index=False)\n",
    "aso_1s.to_csv('eda_csvs/aso_1s.csv', index=False)\n",
    "fhfy_1s.to_csv('eda_csvs/fhfy_1s.csv', index=False)\n",
    "fhsy_1s.to_csv('eda_csvs/fhsy_1s.csv', index=False)\n",
    "tuc_1s.to_csv('eda_csvs/tuc_1s.csv', index=False)\n",
    "tuc2_1s.to_csv('eda_csvs/tuc2_1s.csv', index=False)"
   ]
  },
  {
   "cell_type": "markdown",
   "id": "f2caf5db",
   "metadata": {},
   "source": [
    "### Taking a look at our critical successes"
   ]
  },
  {
   "cell_type": "code",
   "execution_count": 9,
   "id": "b201ccb8",
   "metadata": {},
   "outputs": [],
   "source": [
    "acoc_20s = pd.read_csv('eda_csvs/acoc_20s.csv')\n",
    "aso_20s = pd.read_csv('eda_csvs/aso_20s.csv')\n",
    "fhfy_20s = pd.read_csv('eda_csvs/fhfy_20s.csv')\n",
    "fhsy_20s = pd.read_csv('eda_csvs/fhsy_20s.csv')\n",
    "tuc_20s = pd.read_csv('eda_csvs/tuc_20s.csv')\n",
    "tuc2_20s = pd.read_csv('eda_csvs/tuc2_20s.csv')"
   ]
  },
  {
   "cell_type": "code",
   "execution_count": 49,
   "id": "a9fabe83",
   "metadata": {},
   "outputs": [
    {
     "data": {
      "text/html": [
       "<div>\n",
       "<style scoped>\n",
       "    .dataframe tbody tr th:only-of-type {\n",
       "        vertical-align: middle;\n",
       "    }\n",
       "\n",
       "    .dataframe tbody tr th {\n",
       "        vertical-align: top;\n",
       "    }\n",
       "\n",
       "    .dataframe thead th {\n",
       "        text-align: right;\n",
       "    }\n",
       "</style>\n",
       "<table border=\"1\" class=\"dataframe\">\n",
       "  <thead>\n",
       "    <tr style=\"text-align: right;\">\n",
       "      <th></th>\n",
       "      <th>Line</th>\n",
       "    </tr>\n",
       "    <tr>\n",
       "      <th>Player</th>\n",
       "      <th></th>\n",
       "    </tr>\n",
       "  </thead>\n",
       "  <tbody>\n",
       "    <tr>\n",
       "      <th>Ally</th>\n",
       "      <td>20</td>\n",
       "    </tr>\n",
       "    <tr>\n",
       "      <th>Siobhan</th>\n",
       "      <td>18</td>\n",
       "    </tr>\n",
       "    <tr>\n",
       "      <th>Murph</th>\n",
       "      <td>12</td>\n",
       "    </tr>\n",
       "    <tr>\n",
       "      <th>Emily</th>\n",
       "      <td>9</td>\n",
       "    </tr>\n",
       "    <tr>\n",
       "      <th>Lou</th>\n",
       "      <td>9</td>\n",
       "    </tr>\n",
       "    <tr>\n",
       "      <th>Zac</th>\n",
       "      <td>9</td>\n",
       "    </tr>\n",
       "  </tbody>\n",
       "</table>\n",
       "</div>"
      ],
      "text/plain": [
       "         Line\n",
       "Player       \n",
       "Ally       20\n",
       "Siobhan    18\n",
       "Murph      12\n",
       "Emily       9\n",
       "Lou         9\n",
       "Zac         9"
      ]
     },
     "execution_count": 49,
     "metadata": {},
     "output_type": "execute_result"
    }
   ],
   "source": [
    "acoc_20s_df = acoc_20s.groupby(['Player']).count()\n",
    "acoc_20s_df = acoc_20s_df.sort_values('Line', ascending=False)\n",
    "acoc_20s_df"
   ]
  },
  {
   "cell_type": "code",
   "execution_count": 44,
   "id": "1fbfd036",
   "metadata": {},
   "outputs": [
    {
     "data": {
      "text/html": [
       "<div>\n",
       "<style scoped>\n",
       "    .dataframe tbody tr th:only-of-type {\n",
       "        vertical-align: middle;\n",
       "    }\n",
       "\n",
       "    .dataframe tbody tr th {\n",
       "        vertical-align: top;\n",
       "    }\n",
       "\n",
       "    .dataframe thead th {\n",
       "        text-align: right;\n",
       "    }\n",
       "</style>\n",
       "<table border=\"1\" class=\"dataframe\">\n",
       "  <thead>\n",
       "    <tr style=\"text-align: right;\">\n",
       "      <th></th>\n",
       "      <th>Line</th>\n",
       "    </tr>\n",
       "    <tr>\n",
       "      <th>Player</th>\n",
       "      <th></th>\n",
       "    </tr>\n",
       "  </thead>\n",
       "  <tbody>\n",
       "    <tr>\n",
       "      <th>Emily</th>\n",
       "      <td>18</td>\n",
       "    </tr>\n",
       "    <tr>\n",
       "      <th>Zac</th>\n",
       "      <td>15</td>\n",
       "    </tr>\n",
       "    <tr>\n",
       "      <th>Lou</th>\n",
       "      <td>13</td>\n",
       "    </tr>\n",
       "    <tr>\n",
       "      <th>Murph</th>\n",
       "      <td>13</td>\n",
       "    </tr>\n",
       "    <tr>\n",
       "      <th>Ally</th>\n",
       "      <td>9</td>\n",
       "    </tr>\n",
       "    <tr>\n",
       "      <th>Siobhan</th>\n",
       "      <td>3</td>\n",
       "    </tr>\n",
       "  </tbody>\n",
       "</table>\n",
       "</div>"
      ],
      "text/plain": [
       "         Line\n",
       "Player       \n",
       "Emily      18\n",
       "Zac        15\n",
       "Lou        13\n",
       "Murph      13\n",
       "Ally        9\n",
       "Siobhan     3"
      ]
     },
     "execution_count": 44,
     "metadata": {},
     "output_type": "execute_result"
    }
   ],
   "source": [
    "aso_20s_df = aso_20s.groupby(['Player']).count()\n",
    "aso_20s_df = aso_20s_df.sort_values('Line', ascending=False)\n",
    "aso_20s_df"
   ]
  },
  {
   "cell_type": "code",
   "execution_count": 45,
   "id": "4d1d19f3",
   "metadata": {},
   "outputs": [
    {
     "data": {
      "text/html": [
       "<div>\n",
       "<style scoped>\n",
       "    .dataframe tbody tr th:only-of-type {\n",
       "        vertical-align: middle;\n",
       "    }\n",
       "\n",
       "    .dataframe tbody tr th {\n",
       "        vertical-align: top;\n",
       "    }\n",
       "\n",
       "    .dataframe thead th {\n",
       "        text-align: right;\n",
       "    }\n",
       "</style>\n",
       "<table border=\"1\" class=\"dataframe\">\n",
       "  <thead>\n",
       "    <tr style=\"text-align: right;\">\n",
       "      <th></th>\n",
       "      <th>Line</th>\n",
       "    </tr>\n",
       "    <tr>\n",
       "      <th>Player</th>\n",
       "      <th></th>\n",
       "    </tr>\n",
       "  </thead>\n",
       "  <tbody>\n",
       "    <tr>\n",
       "      <th>Emily</th>\n",
       "      <td>9</td>\n",
       "    </tr>\n",
       "    <tr>\n",
       "      <th>Murph</th>\n",
       "      <td>9</td>\n",
       "    </tr>\n",
       "    <tr>\n",
       "      <th>Zac</th>\n",
       "      <td>9</td>\n",
       "    </tr>\n",
       "    <tr>\n",
       "      <th>Siobhan</th>\n",
       "      <td>8</td>\n",
       "    </tr>\n",
       "    <tr>\n",
       "      <th>Ally</th>\n",
       "      <td>7</td>\n",
       "    </tr>\n",
       "    <tr>\n",
       "      <th>Lou</th>\n",
       "      <td>5</td>\n",
       "    </tr>\n",
       "  </tbody>\n",
       "</table>\n",
       "</div>"
      ],
      "text/plain": [
       "         Line\n",
       "Player       \n",
       "Emily       9\n",
       "Murph       9\n",
       "Zac         9\n",
       "Siobhan     8\n",
       "Ally        7\n",
       "Lou         5"
      ]
     },
     "execution_count": 45,
     "metadata": {},
     "output_type": "execute_result"
    }
   ],
   "source": [
    "fhfy_20s_df = fhfy_20s.groupby(['Player']).count()\n",
    "fhfy_20s_df = fhfy_20s_df.sort_values('Line', ascending=False)\n",
    "fhfy_20s_df"
   ]
  },
  {
   "cell_type": "code",
   "execution_count": 46,
   "id": "48588c72",
   "metadata": {},
   "outputs": [
    {
     "data": {
      "text/html": [
       "<div>\n",
       "<style scoped>\n",
       "    .dataframe tbody tr th:only-of-type {\n",
       "        vertical-align: middle;\n",
       "    }\n",
       "\n",
       "    .dataframe tbody tr th {\n",
       "        vertical-align: top;\n",
       "    }\n",
       "\n",
       "    .dataframe thead th {\n",
       "        text-align: right;\n",
       "    }\n",
       "</style>\n",
       "<table border=\"1\" class=\"dataframe\">\n",
       "  <thead>\n",
       "    <tr style=\"text-align: right;\">\n",
       "      <th></th>\n",
       "      <th>Line</th>\n",
       "    </tr>\n",
       "    <tr>\n",
       "      <th>Player</th>\n",
       "      <th></th>\n",
       "    </tr>\n",
       "  </thead>\n",
       "  <tbody>\n",
       "    <tr>\n",
       "      <th>Ally</th>\n",
       "      <td>18</td>\n",
       "    </tr>\n",
       "    <tr>\n",
       "      <th>Murph</th>\n",
       "      <td>14</td>\n",
       "    </tr>\n",
       "    <tr>\n",
       "      <th>Siobhan</th>\n",
       "      <td>13</td>\n",
       "    </tr>\n",
       "    <tr>\n",
       "      <th>Emily</th>\n",
       "      <td>11</td>\n",
       "    </tr>\n",
       "    <tr>\n",
       "      <th>Lou</th>\n",
       "      <td>9</td>\n",
       "    </tr>\n",
       "    <tr>\n",
       "      <th>Zac</th>\n",
       "      <td>6</td>\n",
       "    </tr>\n",
       "  </tbody>\n",
       "</table>\n",
       "</div>"
      ],
      "text/plain": [
       "         Line\n",
       "Player       \n",
       "Ally       18\n",
       "Murph      14\n",
       "Siobhan    13\n",
       "Emily      11\n",
       "Lou         9\n",
       "Zac         6"
      ]
     },
     "execution_count": 46,
     "metadata": {},
     "output_type": "execute_result"
    }
   ],
   "source": [
    "fhsy_20s_df = fhsy_20s.groupby(['Player']).count()\n",
    "fhsy_20s_df = fhsy_20s_df.sort_values('Line', ascending=False)\n",
    "fhsy_20s_df"
   ]
  },
  {
   "cell_type": "code",
   "execution_count": 47,
   "id": "0d1b79aa",
   "metadata": {},
   "outputs": [
    {
     "data": {
      "text/html": [
       "<div>\n",
       "<style scoped>\n",
       "    .dataframe tbody tr th:only-of-type {\n",
       "        vertical-align: middle;\n",
       "    }\n",
       "\n",
       "    .dataframe tbody tr th {\n",
       "        vertical-align: top;\n",
       "    }\n",
       "\n",
       "    .dataframe thead th {\n",
       "        text-align: right;\n",
       "    }\n",
       "</style>\n",
       "<table border=\"1\" class=\"dataframe\">\n",
       "  <thead>\n",
       "    <tr style=\"text-align: right;\">\n",
       "      <th></th>\n",
       "      <th>Line</th>\n",
       "    </tr>\n",
       "    <tr>\n",
       "      <th>Player</th>\n",
       "      <th></th>\n",
       "    </tr>\n",
       "  </thead>\n",
       "  <tbody>\n",
       "    <tr>\n",
       "      <th>Lou</th>\n",
       "      <td>11</td>\n",
       "    </tr>\n",
       "    <tr>\n",
       "      <th>Ally</th>\n",
       "      <td>9</td>\n",
       "    </tr>\n",
       "    <tr>\n",
       "      <th>Emily</th>\n",
       "      <td>9</td>\n",
       "    </tr>\n",
       "    <tr>\n",
       "      <th>Siobhan</th>\n",
       "      <td>6</td>\n",
       "    </tr>\n",
       "    <tr>\n",
       "      <th>Zac</th>\n",
       "      <td>5</td>\n",
       "    </tr>\n",
       "    <tr>\n",
       "      <th>Murph</th>\n",
       "      <td>4</td>\n",
       "    </tr>\n",
       "    <tr>\n",
       "      <th>Zac</th>\n",
       "      <td>1</td>\n",
       "    </tr>\n",
       "  </tbody>\n",
       "</table>\n",
       "</div>"
      ],
      "text/plain": [
       "         Line\n",
       "Player       \n",
       "Lou        11\n",
       "Ally        9\n",
       "Emily       9\n",
       "Siobhan     6\n",
       "Zac         5\n",
       "Murph       4\n",
       "   Zac      1"
      ]
     },
     "execution_count": 47,
     "metadata": {},
     "output_type": "execute_result"
    }
   ],
   "source": [
    "tuc_20s_df = tuc_20s.groupby(['Player']).count()\n",
    "tuc_20s_df = tuc_20s_df.sort_values('Line', ascending=False)\n",
    "tuc_20s_df"
   ]
  },
  {
   "cell_type": "code",
   "execution_count": 48,
   "id": "ffa847b8",
   "metadata": {},
   "outputs": [
    {
     "data": {
      "text/html": [
       "<div>\n",
       "<style scoped>\n",
       "    .dataframe tbody tr th:only-of-type {\n",
       "        vertical-align: middle;\n",
       "    }\n",
       "\n",
       "    .dataframe tbody tr th {\n",
       "        vertical-align: top;\n",
       "    }\n",
       "\n",
       "    .dataframe thead th {\n",
       "        text-align: right;\n",
       "    }\n",
       "</style>\n",
       "<table border=\"1\" class=\"dataframe\">\n",
       "  <thead>\n",
       "    <tr style=\"text-align: right;\">\n",
       "      <th></th>\n",
       "      <th>Line</th>\n",
       "    </tr>\n",
       "    <tr>\n",
       "      <th>Player</th>\n",
       "      <th></th>\n",
       "    </tr>\n",
       "  </thead>\n",
       "  <tbody>\n",
       "    <tr>\n",
       "      <th>Zac</th>\n",
       "      <td>15</td>\n",
       "    </tr>\n",
       "    <tr>\n",
       "      <th>Ally</th>\n",
       "      <td>8</td>\n",
       "    </tr>\n",
       "    <tr>\n",
       "      <th>Siobhan</th>\n",
       "      <td>7</td>\n",
       "    </tr>\n",
       "    <tr>\n",
       "      <th>Emily</th>\n",
       "      <td>6</td>\n",
       "    </tr>\n",
       "    <tr>\n",
       "      <th>Lou</th>\n",
       "      <td>4</td>\n",
       "    </tr>\n",
       "    <tr>\n",
       "      <th>Murph</th>\n",
       "      <td>2</td>\n",
       "    </tr>\n",
       "  </tbody>\n",
       "</table>\n",
       "</div>"
      ],
      "text/plain": [
       "         Line\n",
       "Player       \n",
       "Zac        15\n",
       "Ally        8\n",
       "Siobhan     7\n",
       "Emily       6\n",
       "Lou         4\n",
       "Murph       2"
      ]
     },
     "execution_count": 48,
     "metadata": {},
     "output_type": "execute_result"
    }
   ],
   "source": [
    "tuc2_20s_df = tuc2_20s.groupby(['Player']).count()\n",
    "tuc2_20s_df = tuc2_20s_df.sort_values('Line', ascending=False)\n",
    "tuc2_20s_df"
   ]
  },
  {
   "cell_type": "markdown",
   "id": "9ae72ee2",
   "metadata": {},
   "source": [
    "### Taking a look at our critical failures"
   ]
  },
  {
   "cell_type": "code",
   "execution_count": 43,
   "id": "5921c76e",
   "metadata": {},
   "outputs": [],
   "source": [
    "acoc_1s = pd.read_csv('eda_csvs/acoc_1s.csv')\n",
    "aso_1s = pd.read_csv('eda_csvs/aso_1s.csv')\n",
    "fhfy_1s = pd.read_csv('eda_csvs/fhfy_1s.csv')\n",
    "fhsy_1s = pd.read_csv('eda_csvs/fhsy_1s.csv')\n",
    "tuc_1s = pd.read_csv('eda_csvs/tuc_1s.csv')\n",
    "tuc2_1s = pd.read_csv('eda_csvs/tuc2_1s.csv')"
   ]
  },
  {
   "cell_type": "code",
   "execution_count": 50,
   "id": "01b5dfb6",
   "metadata": {},
   "outputs": [
    {
     "data": {
      "text/html": [
       "<div>\n",
       "<style scoped>\n",
       "    .dataframe tbody tr th:only-of-type {\n",
       "        vertical-align: middle;\n",
       "    }\n",
       "\n",
       "    .dataframe tbody tr th {\n",
       "        vertical-align: top;\n",
       "    }\n",
       "\n",
       "    .dataframe thead th {\n",
       "        text-align: right;\n",
       "    }\n",
       "</style>\n",
       "<table border=\"1\" class=\"dataframe\">\n",
       "  <thead>\n",
       "    <tr style=\"text-align: right;\">\n",
       "      <th></th>\n",
       "      <th>Line</th>\n",
       "    </tr>\n",
       "    <tr>\n",
       "      <th>Player</th>\n",
       "      <th></th>\n",
       "    </tr>\n",
       "  </thead>\n",
       "  <tbody>\n",
       "    <tr>\n",
       "      <th>Siobhan</th>\n",
       "      <td>11</td>\n",
       "    </tr>\n",
       "    <tr>\n",
       "      <th>Ally</th>\n",
       "      <td>10</td>\n",
       "    </tr>\n",
       "    <tr>\n",
       "      <th>Murph</th>\n",
       "      <td>7</td>\n",
       "    </tr>\n",
       "    <tr>\n",
       "      <th>Emily</th>\n",
       "      <td>5</td>\n",
       "    </tr>\n",
       "    <tr>\n",
       "      <th>Lou</th>\n",
       "      <td>5</td>\n",
       "    </tr>\n",
       "    <tr>\n",
       "      <th>Zac</th>\n",
       "      <td>1</td>\n",
       "    </tr>\n",
       "  </tbody>\n",
       "</table>\n",
       "</div>"
      ],
      "text/plain": [
       "         Line\n",
       "Player       \n",
       "Siobhan    11\n",
       "Ally       10\n",
       "Murph       7\n",
       "Emily       5\n",
       "Lou         5\n",
       "Zac         1"
      ]
     },
     "execution_count": 50,
     "metadata": {},
     "output_type": "execute_result"
    }
   ],
   "source": [
    "acoc_1s_df = acoc_1s.groupby(['Player']).count()\n",
    "acoc_1s_df = acoc_1s_df.sort_values('Line', ascending=False)\n",
    "acoc_1s_df"
   ]
  },
  {
   "cell_type": "code",
   "execution_count": 51,
   "id": "a4d29524",
   "metadata": {},
   "outputs": [
    {
     "data": {
      "text/html": [
       "<div>\n",
       "<style scoped>\n",
       "    .dataframe tbody tr th:only-of-type {\n",
       "        vertical-align: middle;\n",
       "    }\n",
       "\n",
       "    .dataframe tbody tr th {\n",
       "        vertical-align: top;\n",
       "    }\n",
       "\n",
       "    .dataframe thead th {\n",
       "        text-align: right;\n",
       "    }\n",
       "</style>\n",
       "<table border=\"1\" class=\"dataframe\">\n",
       "  <thead>\n",
       "    <tr style=\"text-align: right;\">\n",
       "      <th></th>\n",
       "      <th>Line</th>\n",
       "    </tr>\n",
       "    <tr>\n",
       "      <th>Player</th>\n",
       "      <th></th>\n",
       "    </tr>\n",
       "  </thead>\n",
       "  <tbody>\n",
       "  </tbody>\n",
       "</table>\n",
       "</div>"
      ],
      "text/plain": [
       "Empty DataFrame\n",
       "Columns: [Line]\n",
       "Index: []"
      ]
     },
     "execution_count": 51,
     "metadata": {},
     "output_type": "execute_result"
    }
   ],
   "source": [
    "aso_1s_df = aso_1s.groupby(['Player']).count()\n",
    "aso_1s_df = aso_1s_df.sort_values('Line', ascending=False)\n",
    "aso_1s_df"
   ]
  },
  {
   "cell_type": "code",
   "execution_count": 52,
   "id": "1e9d23f8",
   "metadata": {},
   "outputs": [
    {
     "data": {
      "text/html": [
       "<div>\n",
       "<style scoped>\n",
       "    .dataframe tbody tr th:only-of-type {\n",
       "        vertical-align: middle;\n",
       "    }\n",
       "\n",
       "    .dataframe tbody tr th {\n",
       "        vertical-align: top;\n",
       "    }\n",
       "\n",
       "    .dataframe thead th {\n",
       "        text-align: right;\n",
       "    }\n",
       "</style>\n",
       "<table border=\"1\" class=\"dataframe\">\n",
       "  <thead>\n",
       "    <tr style=\"text-align: right;\">\n",
       "      <th></th>\n",
       "      <th>Line</th>\n",
       "    </tr>\n",
       "    <tr>\n",
       "      <th>Player</th>\n",
       "      <th></th>\n",
       "    </tr>\n",
       "  </thead>\n",
       "  <tbody>\n",
       "    <tr>\n",
       "      <th>Ally</th>\n",
       "      <td>10</td>\n",
       "    </tr>\n",
       "    <tr>\n",
       "      <th>Murph</th>\n",
       "      <td>8</td>\n",
       "    </tr>\n",
       "    <tr>\n",
       "      <th>Zac</th>\n",
       "      <td>8</td>\n",
       "    </tr>\n",
       "    <tr>\n",
       "      <th>Siobhan</th>\n",
       "      <td>6</td>\n",
       "    </tr>\n",
       "    <tr>\n",
       "      <th>Lou</th>\n",
       "      <td>3</td>\n",
       "    </tr>\n",
       "    <tr>\n",
       "      <th>Emily</th>\n",
       "      <td>2</td>\n",
       "    </tr>\n",
       "  </tbody>\n",
       "</table>\n",
       "</div>"
      ],
      "text/plain": [
       "         Line\n",
       "Player       \n",
       "Ally       10\n",
       "Murph       8\n",
       "Zac         8\n",
       "Siobhan     6\n",
       "Lou         3\n",
       "Emily       2"
      ]
     },
     "execution_count": 52,
     "metadata": {},
     "output_type": "execute_result"
    }
   ],
   "source": [
    "fhfy_1s_df = fhfy_1s.groupby(['Player']).count()\n",
    "fhfy_1s_df = fhfy_1s_df.sort_values('Line', ascending=False)\n",
    "fhfy_1s_df"
   ]
  },
  {
   "cell_type": "code",
   "execution_count": 53,
   "id": "51af3104",
   "metadata": {},
   "outputs": [
    {
     "data": {
      "text/html": [
       "<div>\n",
       "<style scoped>\n",
       "    .dataframe tbody tr th:only-of-type {\n",
       "        vertical-align: middle;\n",
       "    }\n",
       "\n",
       "    .dataframe tbody tr th {\n",
       "        vertical-align: top;\n",
       "    }\n",
       "\n",
       "    .dataframe thead th {\n",
       "        text-align: right;\n",
       "    }\n",
       "</style>\n",
       "<table border=\"1\" class=\"dataframe\">\n",
       "  <thead>\n",
       "    <tr style=\"text-align: right;\">\n",
       "      <th></th>\n",
       "      <th>Line</th>\n",
       "    </tr>\n",
       "    <tr>\n",
       "      <th>Player</th>\n",
       "      <th></th>\n",
       "    </tr>\n",
       "  </thead>\n",
       "  <tbody>\n",
       "    <tr>\n",
       "      <th>Zac</th>\n",
       "      <td>11</td>\n",
       "    </tr>\n",
       "    <tr>\n",
       "      <th>Lou</th>\n",
       "      <td>9</td>\n",
       "    </tr>\n",
       "    <tr>\n",
       "      <th>Emily</th>\n",
       "      <td>7</td>\n",
       "    </tr>\n",
       "    <tr>\n",
       "      <th>Siobhan</th>\n",
       "      <td>5</td>\n",
       "    </tr>\n",
       "    <tr>\n",
       "      <th>Murph</th>\n",
       "      <td>3</td>\n",
       "    </tr>\n",
       "    <tr>\n",
       "      <th>Ally</th>\n",
       "      <td>2</td>\n",
       "    </tr>\n",
       "  </tbody>\n",
       "</table>\n",
       "</div>"
      ],
      "text/plain": [
       "         Line\n",
       "Player       \n",
       "Zac        11\n",
       "Lou         9\n",
       "Emily       7\n",
       "Siobhan     5\n",
       "Murph       3\n",
       "Ally        2"
      ]
     },
     "execution_count": 53,
     "metadata": {},
     "output_type": "execute_result"
    }
   ],
   "source": [
    "fhsy_1s_df = fhsy_1s.groupby(['Player']).count()\n",
    "fhsy_1s_df = fhsy_1s_df.sort_values('Line', ascending=False)\n",
    "fhsy_1s_df"
   ]
  },
  {
   "cell_type": "code",
   "execution_count": 54,
   "id": "fcec8225",
   "metadata": {},
   "outputs": [
    {
     "data": {
      "text/html": [
       "<div>\n",
       "<style scoped>\n",
       "    .dataframe tbody tr th:only-of-type {\n",
       "        vertical-align: middle;\n",
       "    }\n",
       "\n",
       "    .dataframe tbody tr th {\n",
       "        vertical-align: top;\n",
       "    }\n",
       "\n",
       "    .dataframe thead th {\n",
       "        text-align: right;\n",
       "    }\n",
       "</style>\n",
       "<table border=\"1\" class=\"dataframe\">\n",
       "  <thead>\n",
       "    <tr style=\"text-align: right;\">\n",
       "      <th></th>\n",
       "      <th>Line</th>\n",
       "    </tr>\n",
       "    <tr>\n",
       "      <th>Player</th>\n",
       "      <th></th>\n",
       "    </tr>\n",
       "  </thead>\n",
       "  <tbody>\n",
       "    <tr>\n",
       "      <th>Ally</th>\n",
       "      <td>6</td>\n",
       "    </tr>\n",
       "    <tr>\n",
       "      <th>Emily</th>\n",
       "      <td>6</td>\n",
       "    </tr>\n",
       "    <tr>\n",
       "      <th>Siobhan</th>\n",
       "      <td>5</td>\n",
       "    </tr>\n",
       "    <tr>\n",
       "      <th>Zac</th>\n",
       "      <td>4</td>\n",
       "    </tr>\n",
       "    <tr>\n",
       "      <th>Lou</th>\n",
       "      <td>2</td>\n",
       "    </tr>\n",
       "    <tr>\n",
       "      <th>Murph</th>\n",
       "      <td>2</td>\n",
       "    </tr>\n",
       "  </tbody>\n",
       "</table>\n",
       "</div>"
      ],
      "text/plain": [
       "         Line\n",
       "Player       \n",
       "Ally        6\n",
       "Emily       6\n",
       "Siobhan     5\n",
       "Zac         4\n",
       "Lou         2\n",
       "Murph       2"
      ]
     },
     "execution_count": 54,
     "metadata": {},
     "output_type": "execute_result"
    }
   ],
   "source": [
    "tuc_1s_df = tuc_1s.groupby(['Player']).count()\n",
    "tuc_1s_df = tuc_1s_df.sort_values('Line', ascending=False)\n",
    "tuc_1s_df"
   ]
  },
  {
   "cell_type": "code",
   "execution_count": 55,
   "id": "96d89ce1",
   "metadata": {},
   "outputs": [
    {
     "data": {
      "text/html": [
       "<div>\n",
       "<style scoped>\n",
       "    .dataframe tbody tr th:only-of-type {\n",
       "        vertical-align: middle;\n",
       "    }\n",
       "\n",
       "    .dataframe tbody tr th {\n",
       "        vertical-align: top;\n",
       "    }\n",
       "\n",
       "    .dataframe thead th {\n",
       "        text-align: right;\n",
       "    }\n",
       "</style>\n",
       "<table border=\"1\" class=\"dataframe\">\n",
       "  <thead>\n",
       "    <tr style=\"text-align: right;\">\n",
       "      <th></th>\n",
       "      <th>Line</th>\n",
       "    </tr>\n",
       "    <tr>\n",
       "      <th>Player</th>\n",
       "      <th></th>\n",
       "    </tr>\n",
       "  </thead>\n",
       "  <tbody>\n",
       "    <tr>\n",
       "      <th>Siobhan</th>\n",
       "      <td>9</td>\n",
       "    </tr>\n",
       "    <tr>\n",
       "      <th>Murph</th>\n",
       "      <td>4</td>\n",
       "    </tr>\n",
       "    <tr>\n",
       "      <th>Zac</th>\n",
       "      <td>4</td>\n",
       "    </tr>\n",
       "    <tr>\n",
       "      <th>Ally</th>\n",
       "      <td>3</td>\n",
       "    </tr>\n",
       "    <tr>\n",
       "      <th>Emily</th>\n",
       "      <td>3</td>\n",
       "    </tr>\n",
       "    <tr>\n",
       "      <th>Lou</th>\n",
       "      <td>3</td>\n",
       "    </tr>\n",
       "  </tbody>\n",
       "</table>\n",
       "</div>"
      ],
      "text/plain": [
       "         Line\n",
       "Player       \n",
       "Siobhan     9\n",
       "Murph       4\n",
       "Zac         4\n",
       "Ally        3\n",
       "Emily       3\n",
       "Lou         3"
      ]
     },
     "execution_count": 55,
     "metadata": {},
     "output_type": "execute_result"
    }
   ],
   "source": [
    "tuc2_1s_df = tuc2_1s.groupby(['Player']).count()\n",
    "tuc2_1s_df = tuc2_1s_df.sort_values('Line', ascending=False)\n",
    "tuc2_1s_df"
   ]
  },
  {
   "cell_type": "code",
   "execution_count": null,
   "id": "7b73fa21",
   "metadata": {},
   "outputs": [],
   "source": []
  },
  {
   "cell_type": "code",
   "execution_count": 56,
   "id": "e783e501",
   "metadata": {},
   "outputs": [],
   "source": [
    "# exporting csvs"
   ]
  },
  {
   "cell_type": "code",
   "execution_count": 57,
   "id": "ec559cc7",
   "metadata": {},
   "outputs": [],
   "source": [
    "acoc_20s_df.to_csv('grouped_csvs/acoc_20s_grouped.csv', index=False)\n",
    "aso_20s_df.to_csv('grouped_csvs/aso_20s_grouped.csv', index=False)\n",
    "fhfy_20s_df.to_csv('grouped_csvs/fhfy_20s_grouped.csv', index=False)\n",
    "fhsy_20s_df.to_csv('grouped_csvs/fhsy_20s_grouped.csv', index=False)\n",
    "tuc_20s_df.to_csv('grouped_csvs/tuc_20s_grouped.csv', index=False)\n",
    "tuc2_20s_df.to_csv('grouped_csvs/tuc2_20s_grouped.csv', index=False)\n",
    "acoc_1s_df.to_csv('grouped_csvs/acoc_1s_grouped.csv', index=False)\n",
    "aso_1s_df.to_csv('grouped_csvs/aso_1s_grouped.csv', index=False)\n",
    "fhfy_1s_df.to_csv('grouped_csvs/fhfy_1s_grouped.csv', index=False)\n",
    "fhsy_1s_df.to_csv('grouped_csvs/fhsy_1s_grouped.csv', index=False)\n",
    "tuc_1s_df.to_csv('grouped_csvs/tuc_1s_grouped.csv', index=False)\n",
    "tuc2_1s_df.to_csv('grouped_csvs/tuc2_1s_grouped.csv', index=False)"
   ]
  },
  {
   "cell_type": "code",
   "execution_count": null,
   "id": "279f6ee5",
   "metadata": {},
   "outputs": [],
   "source": []
  }
 ],
 "metadata": {
  "kernelspec": {
   "display_name": "Python 3 (ipykernel)",
   "language": "python",
   "name": "python3"
  },
  "language_info": {
   "codemirror_mode": {
    "name": "ipython",
    "version": 3
   },
   "file_extension": ".py",
   "mimetype": "text/x-python",
   "name": "python",
   "nbconvert_exporter": "python",
   "pygments_lexer": "ipython3",
   "version": "3.9.13"
  }
 },
 "nbformat": 4,
 "nbformat_minor": 5
}
